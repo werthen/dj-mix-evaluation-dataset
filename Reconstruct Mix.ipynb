{
 "cells": [
  {
   "cell_type": "code",
   "execution_count": 6,
   "metadata": {},
   "outputs": [],
   "source": [
    "%matplotlib inline\n",
    "import json\n",
    "import math\n",
    "import numpy as np\n",
    "\n",
    "import matplotlib.pyplot as plt\n",
    "\n",
    "import subprocess\n",
    "import json\n",
    "\n",
    "import librosa"
   ]
  },
  {
   "cell_type": "code",
   "execution_count": 7,
   "metadata": {},
   "outputs": [],
   "source": [
    "raw_data = subprocess.run(['ruby', '../../ableton_extractor/extract.rb', 'setncs.als', '2-Audio', '1-Audio'], stdout=subprocess.PIPE).stdout\n",
    "data = json.loads(raw_data)"
   ]
  },
  {
   "cell_type": "code",
   "execution_count": 8,
   "metadata": {},
   "outputs": [],
   "source": [
    "curves = {\n",
    "    # Constant power\n",
    "    '2': lambda x: math.cos(x * math.pi/2)\n",
    "}\n",
    "\n",
    "curve_fn = np.vectorize(curves[data['crossfade']['curve']])\n",
    "cf_events = data['crossfade']['events']"
   ]
  },
  {
   "cell_type": "code",
   "execution_count": 5,
   "metadata": {},
   "outputs": [],
   "source": [
    "from itertools import takewhile\n",
    "\n",
    "cf_val = 0\n",
    "\n",
    "events = list(cf_events[1:])\n",
    "\n",
    "xfades = []\n",
    "\n",
    "while len(events) > 0:\n",
    "    xfades.append([])\n",
    "    \n",
    "    end_found = False\n",
    "    while not end_found:\n",
    "        event = events.pop(0)\n",
    "        xfades[-1].append(event)\n",
    "        \n",
    "        end_found = event['value'] == cf_val\n",
    "    \n",
    "    cf_val = 1 - cf_val"
   ]
  },
  {
   "cell_type": "code",
   "execution_count": 21,
   "metadata": {},
   "outputs": [],
   "source": [
    "interp = lambda x: np.interp(x, [e['time'] for e in cf_events], [e['value'] for e in cf_events])"
   ]
  },
  {
   "cell_type": "code",
   "execution_count": 22,
   "metadata": {},
   "outputs": [],
   "source": [
    "x = np.linspace(0, np.max([e['time'] for e in cf_events]) + 30, 100000)"
   ]
  },
  {
   "cell_type": "code",
   "execution_count": 23,
   "metadata": {},
   "outputs": [],
   "source": [
    "xf_a = lambda x: curve_fn(interp(x))\n",
    "xf_b = lambda x: curve_fn(1 - interp(x))"
   ]
  },
  {
   "cell_type": "code",
   "execution_count": 25,
   "metadata": {},
   "outputs": [],
   "source": [
    "def process_clip(clip):\n",
    "    sr = 44100.0\n",
    "    audio_data, _ = librosa.load(clip['relative_path'][:-4] + '.wav', sr=sr)\n",
    "    \n",
    "    start = int(clip['time'] * sr)\n",
    "    offset = int(clip['offset'] * sr)\n",
    "    \n",
    "    start_with_offset = start - offset\n",
    "    \n",
    "    rng = np.arange(0, len(audio_data))\n",
    "\n",
    "    stretcher = lambda x: np.interp(x, rng, audio_data)\n",
    "\n",
    "    n_elems_s = int(audio_data.shape[0]/clip['stretch'])\n",
    "\n",
    "    stretched = stretcher(np.arange(n_elems_s)*clip['stretch'])\n",
    "    \n",
    "    c_fns = {\n",
    "        'A': xf_a,\n",
    "        'B': xf_b,\n",
    "    }\n",
    "\n",
    "    final = stretched * c_fns[clip['track']]((start_with_offset/sr) + (np.arange(len(stretched))/sr))\n",
    "    final[:offset] = 0\n",
    "    \n",
    "    if start_with_offset < 0:\n",
    "        final = final[abs(start_with_offset):]\n",
    "    elif start_with_offset > 0:\n",
    "        final = np.pad(final, (start_with_offset, 0), 'constant')\n",
    "        \n",
    "    endsample = int(clip['end'] * sr)\n",
    "    final[endsample:] = 0\n",
    "\n",
    "    return final.astype(np.float32), int(sr)"
   ]
  },
  {
   "cell_type": "code",
   "execution_count": 26,
   "metadata": {},
   "outputs": [
    {
     "name": "stdout",
     "output_type": "stream",
     "text": [
      "Processing clip Debris & Our Psych - Omerta _NCS Release_ ( 160kbps ).wav\n",
      "Processing clip NIVIRO - The Floor Is Lava _NCS Release_ ( 160kbps ).wav\n",
      "Processing clip NIVIRO - Memes [NCS Release]-hgXZQfHySDw.wav\n",
      "Processing clip Kisma - Fingertips [NCS Release]-LJeiQw2RmSg.wav\n",
      "Processing clip Elektronomia_-_Sky_High_[NCS_Release].wav\n",
      "Processing clip Raven & Kreyn - Biscuit [NCS Release]-npG_UUUnwjI.wav\n",
      "Processing clip Culture Code - Feel Again (feat. Harley Bird) [NCS Release]-YGLA_V_yZXo.wav\n"
     ]
    }
   ],
   "source": [
    "clips = []\n",
    "\n",
    "for clip in data['clips']:\n",
    "    print(f'Processing clip {clip[\"name\"]}')\n",
    "    clips.append(process_clip(clip))"
   ]
  },
  {
   "cell_type": "code",
   "execution_count": 27,
   "metadata": {},
   "outputs": [],
   "source": [
    "from functools import reduce\n",
    "\n",
    "maxlen = max([len(x) for x, _ in clips])\n",
    "\n",
    "def reducer(a, b):\n",
    "    return np.pad(a, (0, maxlen - len(a)), 'constant') + np.pad(b, (0, maxlen - len(b)), 'constant')\n",
    "\n",
    "reduced = reduce(reducer, [x for x, _ in clips])"
   ]
  },
  {
   "cell_type": "code",
   "execution_count": 28,
   "metadata": {},
   "outputs": [],
   "source": [
    "librosa.output.write_wav('n_setncs.wav', reduced.astype(np.float32), 44100)"
   ]
  }
 ],
 "metadata": {
  "kernelspec": {
   "display_name": "Python 3",
   "language": "python",
   "name": "python3"
  },
  "language_info": {
   "codemirror_mode": {
    "name": "ipython",
    "version": 3
   },
   "file_extension": ".py",
   "mimetype": "text/x-python",
   "name": "python",
   "nbconvert_exporter": "python",
   "pygments_lexer": "ipython3",
   "version": "3.7.0"
  }
 },
 "nbformat": 4,
 "nbformat_minor": 2
}
